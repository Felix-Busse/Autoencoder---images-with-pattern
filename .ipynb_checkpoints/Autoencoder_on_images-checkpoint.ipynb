{
 "cells": [
  {
   "cell_type": "markdown",
   "id": "6e2562f8",
   "metadata": {},
   "source": [
    "# Autoencoders - reproducing images"
   ]
  },
  {
   "cell_type": "code",
   "execution_count": 1,
   "id": "91c68425",
   "metadata": {},
   "outputs": [
    {
     "name": "stderr",
     "output_type": "stream",
     "text": [
      "2023-04-18 11:15:16.854576: I tensorflow/tsl/cuda/cudart_stub.cc:28] Could not find cuda drivers on your machine, GPU will not be used.\n",
      "2023-04-18 11:15:16.919821: I tensorflow/tsl/cuda/cudart_stub.cc:28] Could not find cuda drivers on your machine, GPU will not be used.\n",
      "2023-04-18 11:15:16.920506: I tensorflow/core/platform/cpu_feature_guard.cc:182] This TensorFlow binary is optimized to use available CPU instructions in performance-critical operations.\n",
      "To enable the following instructions: AVX2 FMA, in other operations, rebuild TensorFlow with the appropriate compiler flags.\n",
      "2023-04-18 11:15:17.740846: W tensorflow/compiler/tf2tensorrt/utils/py_utils.cc:38] TF-TRT Warning: Could not find TensorRT\n"
     ]
    }
   ],
   "source": [
    "import matplotlib.pyplot as plt\n",
    "import numpy as np\n",
    "import matplotlib.pyplot as plt\n",
    "import tensorflow.keras as ks"
   ]
  },
  {
   "cell_type": "markdown",
   "id": "88104e66",
   "metadata": {},
   "source": [
    "### Functions, used for sample creation"
   ]
  },
  {
   "cell_type": "code",
   "execution_count": 114,
   "id": "5b98c849",
   "metadata": {},
   "outputs": [],
   "source": [
    "class Sample_Circles:\n",
    "    \"\"\"Class creates images with circle pattern drawn inside and hold them in a list.\n",
    "    Information about area of pattern and middle point coordinates is stored.\"\"\"\n",
    "    def __init__(self):\n",
    "        self.images = [] # List that will hold generated images\n",
    "        self.image_size = [60, 60] # List that holds information about size of images to generate next.\n",
    "        self.fill_color = [255, 255, 255] # List that holds color information for image background color \n",
    "        self.circle_color = [255, 128, 0] # List that holds color information for circle pattern color\n",
    "        self.radius = [17, 17] # List that holds lower and upper limit of radius for circle pattern\n",
    "        self.r = 17 # Radius of circle pattern for next image generated. Can be randomly chosen between\n",
    "                    # limits stored in .radius property by calling .randomize_r method\n",
    "        self.area = [] # List that holds information about surface area of circle pattern in images\n",
    "        self.coordinates = [] # List that holds information about middle point coordinates of circle pattern\n",
    "        self.area_color = [] # List that holds information about color of circle pattern\n",
    "    \n",
    "    def __set_radius_lower__(self, r):\n",
    "        \"\"\"Sets lower limit for circle radius.\"\"\"\n",
    "        self.radius[0] = r\n",
    "    \n",
    "    def __set_radius_upper__(self, r):\n",
    "        \"\"\"Sets upper limit for circle radius.\"\"\"\n",
    "        self.radius[1] = r\n",
    "        \n",
    "    def set_radius(self, lower=17, upper=17):\n",
    "        \"\"\"Function allows to set lower and upper limit for radius.\n",
    "        Unmentioned limits will default to 17!\"\"\"\n",
    "        self.__set_radius_lower__(lower)\n",
    "        self.__set_radius_upper__(upper)\n",
    "        self.randomize_r()\n",
    "        \n",
    "    def randomize_r(self):\n",
    "        \"\"\"Function will set .r property to random integer value between limits defined in .radius\"\"\"\n",
    "        self.r = np.random.randint(low=self.radius[0], high=self.radius[1] + 1)\n",
    "        \n",
    "    def __set_size_x__(self, x):\n",
    "        \"\"\"Sets size of image for x-cooordinate direction.\"\"\"\n",
    "        self.image_size[0] = x\n",
    "    \n",
    "    def __set_size_y__(self, y):\n",
    "        \"\"\"Sets size of image for y-cooordinate direction.\"\"\"\n",
    "        self.image_size[1] = y\n",
    "        \n",
    "    def set_image_size(self, x=60, y=60):\n",
    "        \"\"\"Function allows to set size of next generated images.\n",
    "        Unmentioned parameters will default to 60!\"\"\"\n",
    "        self.__set_size_x__(x)\n",
    "        self.__set_size_y__(y)\n",
    "        \n",
    "    def randomize_fill_color(self):\n",
    "        \"\"\"Function that will choose an arbitary background color for next image generation.\"\"\"\n",
    "        self.fill_color = np.random.randint(low=0, high=256, size=3).tolist()\n",
    "        \n",
    "    def randomize_circle_color(self):\n",
    "        \"\"\"Function that will choose an arbitary circle pattern color for next image generation.\"\"\"\n",
    "        self.circle_color = np.random.randint(low=0, high=256, size=3).tolist()    \n",
    "\n",
    "    def __create_image_w_circle__(self):\n",
    "        \"\"\" Creates a numpy array with three dimensions, which represents a color image.\n",
    "        The image will hold a circle as pattern on an arbitary position.\n",
    "        Size of image and circle, as well as the color of background and circle may be specified.\n",
    "        Besides the image the position of the circle and its area is stored in the class object.\"\"\"\n",
    "        # Generating image with background color\n",
    "        image = np.full(shape=(self.image_size[0], self.image_size[1], 3), fill_value=self.fill_color)\n",
    "        # Determing coordinates for center of circle\n",
    "        coord_x = np.random.randint(low=self.r, high=(self.image_size[0] - self.r))\n",
    "        coord_y = np.random.randint(low=self.r, high=(self.image_size[1] - self.r))\n",
    "\n",
    "        # Creating a meshgrid of image size and than calculate from that, whether position is in circle\n",
    "        mesh = np.meshgrid(range(self.image_size[1]), range(self.image_size[0]))\n",
    "        mesh[0] -= coord_y\n",
    "        mesh[1] -= coord_x\n",
    "        mask = np.sqrt(mesh[0]**2 + mesh[1]**2) < self.r\n",
    "        # Filling circle in the image by specifying its color value on all three layers\n",
    "        for i in range(3):\n",
    "            # Write new color on image, where pixels are within radius of circle\n",
    "            image[mask, i] = self.circle_color[i]\n",
    "        self.images.append(image) # store generated image\n",
    "        self.area.append(np.pi*self.r**2) # store information about surface area size\n",
    "        self.coordinates.append([coord_x, coord_y]) # store information about location of circle pattern\n",
    "        self.area_color.append(self.circle_color)\n",
    "        \n",
    "    def append_random_circles(self, n):\n",
    "        \"\"\"Will append n new images with circles with random radius \n",
    "        (within radius limits in .radius property).\"\"\"\n",
    "        for _ in range(n):\n",
    "            self.randomize_r() # For random radius size for every image\n",
    "            self.__create_image_w_circle__() # call image creation\n",
    "            \n",
    "    def __erase_area_color(self, a=None, b=None):\n",
    "        \"\"\"Erases area_color between a (included) and b (excluded). If a and b are not given,\n",
    "        whole area_color stack is erased. Counting from zero (index counting)\"\"\"        \n",
    "        if ((a == None) & (b == None)):\n",
    "            self.area_color.clear() # clear all in case no arguements were given\n",
    "        elif (b == None):\n",
    "            del self.area_color[a:] # clear index a and all behind, if only a is given\n",
    "        elif (a == None):\n",
    "            del self.area_color[:b] # clear all up to index b (excluded), if only b is given\n",
    "        else:\n",
    "            del self.area_color[a:b] # clear between index a (incl.) and b (excl.) if both are given  \n",
    "            \n",
    "    def __erase_area__(self, a=None, b=None):\n",
    "        \"\"\"Erases area between a (included) and b (excluded). If a and b are not given,\n",
    "        whole image stack is erased. Counting from zero (index counting)\"\"\"        \n",
    "        if ((a == None) & (b == None)):\n",
    "            self.area.clear() # clear all in case no arguements were given\n",
    "        elif (b == None):\n",
    "            del self.area[a:] # clear index a and all behind, if only a is given\n",
    "        elif (a == None):\n",
    "            del self.area[:b] # clear all up to index b (excluded), if only b is given\n",
    "        else:\n",
    "            del self.area[a:b] # clear between index a (incl.) and b (excl.) if both are given        \n",
    "            \n",
    "    def __erase_coordinates__(self, a=None, b=None):\n",
    "        \"\"\"Erases coordinates between a (included) and b (excluded). If a and b are not given,\n",
    "        whole image stack is erased. Counting from zero (index counting)\"\"\"        \n",
    "        if ((a == None) & (b == None)):\n",
    "            self.coordinates.clear() # clear all in case no arguements were given\n",
    "        elif (b == None):\n",
    "            del self.coordinates[a:] # clear index a and all behind, if only a is given\n",
    "        elif (a == None):\n",
    "            del self.coordinates[:b] # clear all up to index b (excluded), if only b is given\n",
    "        else:\n",
    "            del self.coordinates[a:b] # clear between index a (incl.) and b (excl.) if both are given \n",
    "            \n",
    "    def erase_images(self, a=None, b=None):\n",
    "        \"\"\"Erases images between a (included) and b (excluded). If a and b are not given,\n",
    "        whole image stack is erased. Counting from zero (index counting)\"\"\"\n",
    "        if ((a == None) & (b == None)):\n",
    "            self.images.clear() # clear all in case no arguements were given\n",
    "        elif (b == None):\n",
    "            del self.images[a:] # clear index a and all behind, if only a is given\n",
    "        elif (a == None):\n",
    "            del self.images[:b] # clear all up to index b (excluded), if only b is given\n",
    "        else:\n",
    "            del self.images[a:b] # clear between index a (incl.) and b (excl.) if both are given\n",
    "        # Erase corresponding area and coordinate information\n",
    "        self.__erase_area__(a, b)\n",
    "        self.__erase_coordinates__(a, b)\n",
    "    \n",
    "    def normalized_images(self, a=None, b=None):\n",
    "        \"\"\"Exports images with values normalized between 0 and 1 as a numpy arary\n",
    "        of shape (len(self.images), self.image_size[0], self.image_size[1], 3)\"\"\"\n",
    "        if ((a == None) & (b == None)):\n",
    "            return np.array(self.images[:]) / 255 # return all in case no arguements were given\n",
    "        elif (b == None):\n",
    "            return np.array(self.images[a:]) / 255 # return index a and all behind, if only a is given\n",
    "        elif (a == None):\n",
    "            return np.array(self.images[:b]) / 255 # return all up to index b (excluded), if only b is given\n",
    "        else:\n",
    "            return np.array(self.images[a:b]) / 255 # return between index a (incl.) and b (excl.) if both are given\n",
    "    \n",
    "    def normalized_areas(self, a=None, b=None):\n",
    "        \"\"\"Exports surface area information of circle pattern normalized to values from 0 to 1\n",
    "        in a numpy array\"\"\"\n",
    "        areas = np.array(self.area) # create numpy array from self.area\n",
    "        max_value = areas.max() # Determin max value in area \n",
    "        if ((a == None) & (b == None)):\n",
    "            return areas[:] / max_value # return all in case no arguements were given\n",
    "        elif (b == None):\n",
    "            return areas[a:] / max_value # return index a and all behind, if only a is given\n",
    "        elif (a == None):\n",
    "            return areas[:b] / max_value # return all up to index b (excluded), if only b is given\n",
    "        else:\n",
    "            return areas[a:b] / max_value # return between index a (incl.) and b (excl.) if both are given\n",
    "        \n",
    "class Corresponding_Squares_Circles(Sample_Circles):\n",
    "    \"\"\"Class is intended to be used to generate images with circles and enable generation of\n",
    "    corresponding images with squares at same position and same surface area.\"\"\"\n",
    "    \n",
    "    def __init__(self):\n",
    "        super().__init__()\n",
    "        self.images_squares = []\n",
    "        self.area_squares = []\n",
    "    \n",
    "    def __create_image_w_square__(sq_size=30, sq_color=[255, 128, 0]):\n",
    "        \"\"\"Creates a numpy array with three dimensions, which represents an color image.\n",
    "        The picture will hold a square on an arbitary position.\n",
    "        Size of image and square, as well as the color of background and square my be specified.\n",
    "        Besides the image the position of the square (its center position) and its area in pixels is returned\"\"\"\n",
    "        # Generating image with background color\n",
    "        image = np.full(shape=(self.image_size[0], self.image_size[1]), fill_value=self.fill_color)\n",
    "        # Determing random position for square\n",
    "        coord_x = np.random.randint(low=0, high=(self.image_size[0] - sq_size))\n",
    "        coord_y = np.random.randint(low=0, high=(self.image_size[1] - sq_size))\n",
    "        # Filling square in the image by scpecifying its color value on all three layers\n",
    "        for i in range(3):\n",
    "            image[coord_x:coord_x + sq_size, coord_y:coord_y + sq_size, i] = sq_color[i]\n",
    "        self.images_squares.append(image)\n",
    "        self.area_squares.append(sq_size**2)\n",
    "    \n",
    "    #def __create_image_w_square__(self):\n",
    "   #     for i, value in enumerate(self.coordinates):\n",
    "            \n",
    "            \n",
    "            \n",
    "    "
   ]
  },
  {
   "cell_type": "code",
   "execution_count": 115,
   "id": "41b31d39",
   "metadata": {},
   "outputs": [],
   "source": [
    "Samples = Corresponding_Squares_Circles()"
   ]
  },
  {
   "cell_type": "code",
   "execution_count": 107,
   "id": "697873d9",
   "metadata": {},
   "outputs": [
    {
     "data": {
      "text/plain": [
       "[17, 17]"
      ]
     },
     "execution_count": 107,
     "metadata": {},
     "output_type": "execute_result"
    }
   ],
   "source": [
    "Samples.radius"
   ]
  },
  {
   "cell_type": "code",
   "execution_count": 111,
   "id": "6480192e",
   "metadata": {},
   "outputs": [
    {
     "name": "stdout",
     "output_type": "stream",
     "text": [
      "[24, 30]\n",
      "[31, 36]\n",
      "[26, 27]\n",
      "[40, 19]\n",
      "[38, 40]\n",
      "[17, 26]\n",
      "[38, 41]\n",
      "[41, 42]\n",
      "[34, 37]\n",
      "[19, 18]\n"
     ]
    }
   ],
   "source": [
    "Samples.__create_image_w_square__()"
   ]
  },
  {
   "cell_type": "code",
   "execution_count": 116,
   "id": "6166a41b",
   "metadata": {},
   "outputs": [],
   "source": [
    "Samples.set_radius(7, 20)"
   ]
  },
  {
   "cell_type": "code",
   "execution_count": 117,
   "id": "02bbaa2b",
   "metadata": {},
   "outputs": [],
   "source": [
    "Samples.append_random_circles(10)"
   ]
  },
  {
   "cell_type": "code",
   "execution_count": 122,
   "id": "0fb86ecd",
   "metadata": {},
   "outputs": [
    {
     "data": {
      "text/plain": [
       "<matplotlib.image.AxesImage at 0x7f144c71be20>"
      ]
     },
     "execution_count": 122,
     "metadata": {},
     "output_type": "execute_result"
    },
    {
     "data": {
      "image/png": "[encoded data removed]",
      "text/plain": [
       "<Figure size 640x480 with 1 Axes>"
      ]
     },
     "metadata": {},
     "output_type": "display_data"
    }
   ],
   "source": [
    "plt.imshow(Samples.images[4])"
   ]
  },
  {
   "cell_type": "code",
   "execution_count": 89,
   "id": "1882b625",
   "metadata": {},
   "outputs": [
    {
     "data": {
      "text/plain": [
       "(6, 60, 60, 3)"
      ]
     },
     "execution_count": 89,
     "metadata": {},
     "output_type": "execute_result"
    }
   ],
   "source": [
    "Samples.normalized_images().shape"
   ]
  },
  {
   "cell_type": "code",
   "execution_count": 72,
   "id": "0038f1ef",
   "metadata": {},
   "outputs": [
    {
     "ename": "TypeError",
     "evalue": "unsupported operand type(s) for /: 'list' and 'float'",
     "output_type": "error",
     "traceback": [
      "\u001b[0;31m---------------------------------------------------------------------------\u001b[0m",
      "\u001b[0;31mTypeError\u001b[0m                                 Traceback (most recent call last)",
      "Cell \u001b[0;32mIn[72], line 1\u001b[0m\n\u001b[0;32m----> 1\u001b[0m \u001b[43mSamples\u001b[49m\u001b[38;5;241;43m.\u001b[39;49m\u001b[43marea\u001b[49m\u001b[38;5;241;43m/\u001b[39;49m\u001b[38;5;28;43mmax\u001b[39;49m\u001b[43m(\u001b[49m\u001b[43mSamples\u001b[49m\u001b[38;5;241;43m.\u001b[39;49m\u001b[43marea\u001b[49m\u001b[43m)\u001b[49m\n",
      "\u001b[0;31mTypeError\u001b[0m: unsupported operand type(s) for /: 'list' and 'float'"
     ]
    }
   ],
   "source": [
    "Samples.area/max(Samples.area)"
   ]
  },
  {
   "cell_type": "code",
   "execution_count": 95,
   "id": "bb4f7cf4",
   "metadata": {},
   "outputs": [],
   "source": [
    "Samples.erase_images(1, 3)"
   ]
  },
  {
   "cell_type": "code",
   "execution_count": 97,
   "id": "3627aac6",
   "metadata": {},
   "outputs": [
    {
     "data": {
      "text/plain": [
       "[452.3893421169302, 615.7521601035994]"
      ]
     },
     "execution_count": 97,
     "metadata": {},
     "output_type": "execute_result"
    }
   ],
   "source": [
    "Samples.area"
   ]
  },
  {
   "cell_type": "code",
   "execution_count": null,
   "id": "4e3d6ce1",
   "metadata": {},
   "outputs": [],
   "source": []
  }
 ],
 "metadata": {
  "kernelspec": {
   "display_name": "Python 3 (ipykernel)",
   "language": "python",
   "name": "python3"
  },
  "language_info": {
   "codemirror_mode": {
    "name": "ipython",
    "version": 3
   },
   "file_extension": ".py",
   "mimetype": "text/x-python",
   "name": "python",
   "nbconvert_exporter": "python",
   "pygments_lexer": "ipython3",
   "version": "3.10.6"
  }
 },
 "nbformat": 4,
 "nbformat_minor": 5
}
