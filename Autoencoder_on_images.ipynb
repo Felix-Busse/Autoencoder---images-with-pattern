{
 "cells": [
  {
   "cell_type": "markdown",
   "id": "6e2562f8",
   "metadata": {},
   "source": [
    "# Autoencoders - reproducing images"
   ]
  },
  {
   "cell_type": "code",
   "execution_count": 1,
   "id": "91c68425",
   "metadata": {},
   "outputs": [
    {
     "name": "stderr",
     "output_type": "stream",
     "text": [
      "2023-04-20 14:22:43.772393: I tensorflow/tsl/cuda/cudart_stub.cc:28] Could not find cuda drivers on your machine, GPU will not be used.\n",
      "2023-04-20 14:22:43.853538: I tensorflow/tsl/cuda/cudart_stub.cc:28] Could not find cuda drivers on your machine, GPU will not be used.\n",
      "2023-04-20 14:22:43.854683: I tensorflow/core/platform/cpu_feature_guard.cc:182] This TensorFlow binary is optimized to use available CPU instructions in performance-critical operations.\n",
      "To enable the following instructions: AVX2 FMA, in other operations, rebuild TensorFlow with the appropriate compiler flags.\n",
      "2023-04-20 14:22:44.788485: W tensorflow/compiler/tf2tensorrt/utils/py_utils.cc:38] TF-TRT Warning: Could not find TensorRT\n"
     ]
    }
   ],
   "source": [
    "import matplotlib.pyplot as plt\n",
    "import numpy as np\n",
    "import matplotlib.pyplot as plt\n",
    "import tensorflow.keras as ks"
   ]
  },
  {
   "cell_type": "markdown",
   "id": "88104e66",
   "metadata": {},
   "source": [
    "### Functions, used for sample creation"
   ]
  },
  {
   "cell_type": "code",
   "execution_count": 2,
   "id": "5b98c849",
   "metadata": {},
   "outputs": [],
   "source": [
    "class Sample_Circles:\n",
    "    \"\"\"Class creates images with circle pattern drawn inside and hold them in a list.\n",
    "    Information about area of pattern and middle point coordinates is stored.\"\"\"\n",
    "    def __init__(self):\n",
    "        self.images = [] # List that will hold generated images\n",
    "        self.image_size = [60, 60] # List that holds information about size of images to generate next.\n",
    "        self.fill_color = [255, 255, 255] # List that holds color information for image background color \n",
    "        self.circle_color = [255, 128, 0] # List that holds color information for circle pattern color\n",
    "        self.radius = [17, 17] # List that holds lower and upper limit of radius for circle pattern\n",
    "        self.r = 17 # Radius of circle pattern for next image generated. Can be randomly chosen between\n",
    "                    # limits stored in .radius property by calling .randomize_r method\n",
    "        self.area = [] # List that holds information about surface area of circle pattern in images\n",
    "        self.coordinates = [] # List that holds information about middle point coordinates of circle pattern\n",
    "        self.area_color = [] # List that holds information about color of circle pattern\n",
    "    \n",
    "    def __set_radius_lower__(self, r):\n",
    "        \"\"\"Sets lower limit for circle radius.\"\"\"\n",
    "        self.radius[0] = r\n",
    "    \n",
    "    def __set_radius_upper__(self, r):\n",
    "        \"\"\"Sets upper limit for circle radius.\"\"\"\n",
    "        self.radius[1] = r\n",
    "        \n",
    "    def set_radius(self, lower=17, upper=17):\n",
    "        \"\"\"Function allows to set lower and upper limit for radius.\n",
    "        Unmentioned limits will default to 17!\"\"\"\n",
    "        self.__set_radius_lower__(lower)\n",
    "        self.__set_radius_upper__(upper)\n",
    "        self.randomize_r()\n",
    "        \n",
    "    def randomize_r(self):\n",
    "        \"\"\"Function will set .r property to random integer value between limits defined in .radius\"\"\"\n",
    "        self.r = np.random.randint(low=self.radius[0], high=self.radius[1] + 1)\n",
    "        \n",
    "    def __set_size_x__(self, x):\n",
    "        \"\"\"Sets size of image for x-cooordinate direction.\"\"\"\n",
    "        self.image_size[0] = x\n",
    "    \n",
    "    def __set_size_y__(self, y):\n",
    "        \"\"\"Sets size of image for y-cooordinate direction.\"\"\"\n",
    "        self.image_size[1] = y\n",
    "        \n",
    "    def set_image_size(self, x=60, y=60):\n",
    "        \"\"\"Function allows to set size of next generated images.\n",
    "        Unmentioned parameters will default to 60!\"\"\"\n",
    "        self.__set_size_x__(x)\n",
    "        self.__set_size_y__(y)\n",
    "        \n",
    "    def randomize_fill_color(self):\n",
    "        \"\"\"Function that will choose an arbitary background color for next image generation.\"\"\"\n",
    "        self.fill_color = np.random.randint(low=0, high=256, size=3).tolist()\n",
    "        \n",
    "    def randomize_circle_color(self):\n",
    "        \"\"\"Function that will choose an arbitary circle pattern color for next image generation.\"\"\"\n",
    "        self.circle_color = np.random.randint(low=0, high=256, size=3).tolist()    \n",
    "\n",
    "    def __create_image_w_circle__(self):\n",
    "        \"\"\" Creates a numpy array with three dimensions, which represents a color image.\n",
    "        The image will hold a circle as pattern on an arbitary position.\n",
    "        Size of image and circle, as well as the color of background and circle may be specified.\n",
    "        Besides the image the position of the circle and its area is stored in the class object.\"\"\"\n",
    "        # Generating image with background color\n",
    "        image = np.full(shape=(self.image_size[0], self.image_size[1], 3), fill_value=self.fill_color)\n",
    "        # Determing coordinates for center of circle\n",
    "        coord_x = np.random.randint(low=self.r, high=(self.image_size[0] - self.r))\n",
    "        coord_y = np.random.randint(low=self.r, high=(self.image_size[1] - self.r))\n",
    "\n",
    "        # Creating a meshgrid of image size and than calculate from that, whether position is in circle\n",
    "        mesh = np.meshgrid(range(self.image_size[1]), range(self.image_size[0]))\n",
    "        mesh[0] -= coord_y\n",
    "        mesh[1] -= coord_x\n",
    "        mask = np.sqrt(mesh[0]**2 + mesh[1]**2) < self.r\n",
    "        # Filling circle in the image by specifying its color value on all three layers\n",
    "        image[mask, :] = self.circle_color\n",
    "        \n",
    "        # Storing results\n",
    "        self.images.append(image) # store generated image\n",
    "        self.area.append(np.pi*self.r**2) # store information about surface area size\n",
    "        self.coordinates.append([coord_x, coord_y]) # store information about location of circle pattern\n",
    "        self.area_color.append(self.circle_color)\n",
    "        \n",
    "    def append_random_circles(self, n):\n",
    "        \"\"\"Will append n new images with circles with random radius \n",
    "        (within radius limits in .radius property).\"\"\"\n",
    "        for _ in range(n):\n",
    "            self.randomize_r() # For random radius size for every image\n",
    "            self.__create_image_w_circle__() # call image creation\n",
    "            \n",
    "    def __erase_area_color(self, a=None, b=None):\n",
    "        \"\"\"Erases area_color between a (included) and b (excluded). If a and b are not given,\n",
    "        whole area_color stack is erased. Counting from zero (index counting)\"\"\"        \n",
    "        if ((a == None) & (b == None)):\n",
    "            self.area_color.clear() # clear all in case no arguements were given\n",
    "        elif (b == None):\n",
    "            del self.area_color[a:] # clear index a and all behind, if only a is given\n",
    "        elif (a == None):\n",
    "            del self.area_color[:b] # clear all up to index b (excluded), if only b is given\n",
    "        else:\n",
    "            del self.area_color[a:b] # clear between index a (incl.) and b (excl.) if both are given  \n",
    "            \n",
    "    def __erase_area__(self, a=None, b=None):\n",
    "        \"\"\"Erases area between a (included) and b (excluded). If a and b are not given,\n",
    "        whole image stack is erased. Counting from zero (index counting)\"\"\"        \n",
    "        if ((a == None) & (b == None)):\n",
    "            self.area.clear() # clear all in case no arguements were given\n",
    "        elif (b == None):\n",
    "            del self.area[a:] # clear index a and all behind, if only a is given\n",
    "        elif (a == None):\n",
    "            del self.area[:b] # clear all up to index b (excluded), if only b is given\n",
    "        else:\n",
    "            del self.area[a:b] # clear between index a (incl.) and b (excl.) if both are given        \n",
    "            \n",
    "    def __erase_coordinates__(self, a=None, b=None):\n",
    "        \"\"\"Erases coordinates between a (included) and b (excluded). If a and b are not given,\n",
    "        whole image stack is erased. Counting from zero (index counting)\"\"\"        \n",
    "        if ((a == None) & (b == None)):\n",
    "            self.coordinates.clear() # clear all in case no arguements were given\n",
    "        elif (b == None):\n",
    "            del self.coordinates[a:] # clear index a and all behind, if only a is given\n",
    "        elif (a == None):\n",
    "            del self.coordinates[:b] # clear all up to index b (excluded), if only b is given\n",
    "        else:\n",
    "            del self.coordinates[a:b] # clear between index a (incl.) and b (excl.) if both are given \n",
    "            \n",
    "    def erase_images(self, a=None, b=None):\n",
    "        \"\"\"Erases images between a (included) and b (excluded). If a and b are not given,\n",
    "        whole image stack is erased. Counting from zero (index counting)\"\"\"\n",
    "        if ((a == None) & (b == None)):\n",
    "            self.images.clear() # clear all in case no arguements were given\n",
    "        elif (b == None):\n",
    "            del self.images[a:] # clear index a and all behind, if only a is given\n",
    "        elif (a == None):\n",
    "            del self.images[:b] # clear all up to index b (excluded), if only b is given\n",
    "        else:\n",
    "            del self.images[a:b] # clear between index a (incl.) and b (excl.) if both are given\n",
    "        # Erase corresponding area and coordinate information\n",
    "        self.__erase_area__(a, b)\n",
    "        self.__erase_coordinates__(a, b)\n",
    "    \n",
    "    def normalized_images(self, a=None, b=None):\n",
    "        \"\"\"Exports images with values normalized between 0 and 1 as a numpy arary\n",
    "        of shape (len(self.images), self.image_size[0], self.image_size[1], 3)\"\"\"\n",
    "        if ((a == None) & (b == None)):\n",
    "            return np.array(self.images[:]) / 255 # return all in case no arguements were given\n",
    "        elif (b == None):\n",
    "            return np.array(self.images[a:]) / 255 # return index a and all behind, if only a is given\n",
    "        elif (a == None):\n",
    "            return np.array(self.images[:b]) / 255 # return all up to index b (excluded), if only b is given\n",
    "        else:\n",
    "            return np.array(self.images[a:b]) / 255 # return between index a (incl.) and b (excl.) if both are given\n",
    "    \n",
    "    def normalized_areas(self, a=None, b=None):\n",
    "        \"\"\"Exports surface area information of circle pattern normalized to values from 0 to 1\n",
    "        in a numpy array\"\"\"\n",
    "        areas = np.array(self.area) # create numpy array from self.area\n",
    "        max_value = areas.max() # Determin max value in area \n",
    "        if (a == None and b == None):\n",
    "            # return all in case no arguements were given\n",
    "            return areas[:] / max_value \n",
    "        elif (b == None):\n",
    "            # return index a and all behind, if only a is given\n",
    "            return areas[a:] / max_value \n",
    "        elif (a == None):\n",
    "            # return all up to index b (excluded), if only b is given\n",
    "            return areas[:b] / max_value \n",
    "        else:\n",
    "            # return between index a (incl.) and b (excl.) if both are given\n",
    "            return areas[a:b] / max_value \n",
    "        \n",
    "        \n",
    "class Corresponding_Squares_Circles(Sample_Circles):\n",
    "    \"\"\"Class is intended to be used to generate images with circles and enable generation of\n",
    "    corresponding images with squares at same position and same surface area.\"\"\"\n",
    "    \n",
    "    def __init__(self):\n",
    "        \"\"\"Initialization of storage for images with squares and its sizes.\"\"\"\n",
    "        super().__init__()\n",
    "        self.images_squares = []\n",
    "        self.area_squares = []\n",
    "    \n",
    "    def __create_image_w_square__(self, coord_x, coord_y, sq_area=30, sq_color=[255, 128, 0]):\n",
    "        \"\"\"Creates a numpy array with three dimensions, which represents an color image.\n",
    "        The picture will hold a square on an arbitary position.\n",
    "        Size of image and square, as well as the color of background and square my be specified.\n",
    "        Besides the image the position of the square (its center position) and its area in pixels is returned\"\"\"\n",
    "        # Generating image with background color\n",
    "        image = np.full(shape=(self.image_size[0], self.image_size[1], 3), fill_value=self.fill_color)\n",
    "        \n",
    "        # Calculating boundary coordinates from middle point coordinates and desired square size\n",
    "        sq_edgelength = np.sqrt(sq_area).round(0).astype('int')\n",
    "        x_edge = (coord_x - sq_edgelength // 2).astype('int')\n",
    "        y_edge = (coord_y - sq_edgelength // 2).astype('int')\n",
    "            \n",
    "        # Checking, if square of desired size fits completly in image at desired position\n",
    "        assert (x_edge > 0 and (x_edge + sq_edgelength) < self.image_size[0]), 'x-coordinate out of limit'\n",
    "        assert (y_edge > 0 and (y_edge + sq_edgelength) < self.image_size[1]), 'y-coordinate out of limit'\n",
    "        \n",
    "        # Filling square in the image by scpecifying its color value on all three layers        \n",
    "        image[x_edge:x_edge + sq_edgelength, y_edge:y_edge + sq_edgelength, :] = sq_color\n",
    "        \n",
    "        # Storing images and area information\n",
    "        self.images_squares.append(image)\n",
    "        self.area_squares.append(sq_edgelength**2)\n",
    "\n",
    "    def add_images_squares(self):\n",
    "        \"\"\"This function allows to generate a corresponding image with a square pattern for every image\n",
    "        stored containing a circle pattern. At every call previously generated images are erased.\"\"\"\n",
    "        self.__erase_squares__()\n",
    "        for i, value in enumerate(self.coordinates):\n",
    "            self.__create_image_w_square__(value[0], value[1], self.area[i], self.area_color[i])\n",
    "            \n",
    "    def __erase_squares__(self):\n",
    "        \"\"\" Erases all stored images with square pattern.\"\"\"\n",
    "        self.images_squares.clear()\n",
    "        self.area_squares.clear()\n",
    "    \n",
    "    def normalizes_images_squares(self, a=None, b=None):\n",
    "        \"\"\"Exports images with values normalized between 0 and 1 as a numpy arary\n",
    "        of shape (len(self.images_squares), self.image_size[0], self.image_size[1], 3)\"\"\"\n",
    "        if (a == None and b == None):\n",
    "            # return all in case no arguements were given\n",
    "            return np.array(self.images_squares[:]) / 255 \n",
    "        elif (b == None):\n",
    "            # return index a and all behind, if only a is given\n",
    "            return np.array(self.images_squares[a:]) / 255 \n",
    "        elif (a == None):\n",
    "            # return all up to index b (excluded), if only b is given\n",
    "            return np.array(self.images_squares[:b]) / 255 \n",
    "        else:\n",
    "            # return between index a (incl.) and b (excl.) if both are given\n",
    "            return np.array(self.images_squares[a:b]) / 255 \n",
    "        \n",
    "    def normalized_areas_squares(self, a=None, b=None):\n",
    "        \"\"\"Exports surface area information of square pattern normalized to values from 0 to 1\n",
    "        in a numpy array\"\"\"\n",
    "        areas = np.array(self.area_squares) # create numpy array from self.area_squares\n",
    "        max_value = areas.max() # Determin max value in area \n",
    "        if (a == None and b == None):\n",
    "            # return all in case no arguements were given\n",
    "            return areas[:] / max_value \n",
    "        elif (b == None):\n",
    "            # return index a and all behind, if only a is given\n",
    "            return areas[a:] / max_value \n",
    "        elif (a == None):\n",
    "            # return all up to index b (excluded), if only b is given\n",
    "            return areas[:b] / max_value \n",
    "        else:\n",
    "            # return between index a (incl.) and b (excl.) if both are given\n",
    "            return areas[a:b] / max_value "
   ]
  },
  {
   "cell_type": "markdown",
   "id": "4f190f21",
   "metadata": {},
   "source": [
    "## Autoencoder without bottlenec (for testing)"
   ]
  },
  {
   "cell_type": "code",
   "execution_count": 4,
   "id": "41b31d39",
   "metadata": {},
   "outputs": [],
   "source": [
    "# Generate Samples with random circles: 50 Samples of 50x50 images \n",
    "Samples = Sample_Circles()\n",
    "Samples.set_radius(3, 20)\n",
    "Samples.set_image_size(50, 50)\n",
    "Samples.append_random_circles(50)\n",
    "# Define training data set as normalized images\n",
    "y_train = Samples.normalized_images()\n",
    "# For autoencoder is input data same to target data!\n",
    "y_target = y_train.copy()"
   ]
  },
  {
   "cell_type": "code",
   "execution_count": 26,
   "id": "b7a8b5ab",
   "metadata": {},
   "outputs": [],
   "source": [
    "# Defining net with multible channels in hidden layer and three channel output layer\n",
    "Net = ks.Sequential()\n",
    "Net.add(ks.layers.Conv2D(10, kernel_size=(3, 3), input_shape=(50, 50, 3), \n",
    "                         padding='same', activation='sigmoid'))\n",
    "Net.add(ks.layers.Conv2D(3, kernel_size=(1, 1), padding='same', activation='linear'))\n",
    "Net.compile(loss='mean_squared_error', optimizer='adam')\n",
    "\n",
    "# Store history of loss-function in\n",
    "history_buffer_loss = []"
   ]
  },
  {
   "cell_type": "code",
   "execution_count": 27,
   "id": "9a3c8d9f",
   "metadata": {},
   "outputs": [
    {
     "name": "stdout",
     "output_type": "stream",
     "text": [
      "Epoch 1/100\n",
      "1/1 [==============================] - 1s 534ms/step - loss: 0.8136\n",
      "Epoch 2/100\n",
      "1/1 [==============================] - 0s 35ms/step - loss: 0.7914\n",
      "Epoch 3/100\n",
      "1/1 [==============================] - 0s 39ms/step - loss: 0.7694\n",
      "Epoch 4/100\n",
      "1/1 [==============================] - 0s 47ms/step - loss: 0.7478\n",
      "Epoch 5/100\n",
      "1/1 [==============================] - 0s 43ms/step - loss: 0.7264\n",
      "Epoch 6/100\n",
      "1/1 [==============================] - 0s 46ms/step - loss: 0.7052\n",
      "Epoch 7/100\n",
      "1/1 [==============================] - 0s 40ms/step - loss: 0.6844\n",
      "Epoch 8/100\n",
      "1/1 [==============================] - 0s 47ms/step - loss: 0.6639\n",
      "Epoch 9/100\n",
      "1/1 [==============================] - 0s 40ms/step - loss: 0.6437\n",
      "Epoch 10/100\n",
      "1/1 [==============================] - 0s 35ms/step - loss: 0.6239\n",
      "Epoch 11/100\n",
      "1/1 [==============================] - 0s 33ms/step - loss: 0.6043\n",
      "Epoch 12/100\n",
      "1/1 [==============================] - 0s 35ms/step - loss: 0.5851\n",
      "Epoch 13/100\n",
      "1/1 [==============================] - 0s 41ms/step - loss: 0.5663\n",
      "Epoch 14/100\n",
      "1/1 [==============================] - 0s 42ms/step - loss: 0.5478\n",
      "Epoch 15/100\n",
      "1/1 [==============================] - 0s 38ms/step - loss: 0.5296\n",
      "Epoch 16/100\n",
      "1/1 [==============================] - 0s 27ms/step - loss: 0.5118\n",
      "Epoch 17/100\n",
      "1/1 [==============================] - 0s 28ms/step - loss: 0.4944\n",
      "Epoch 18/100\n",
      "1/1 [==============================] - 0s 27ms/step - loss: 0.4774\n",
      "Epoch 19/100\n",
      "1/1 [==============================] - 0s 26ms/step - loss: 0.4607\n",
      "Epoch 20/100\n",
      "1/1 [==============================] - 0s 25ms/step - loss: 0.4443\n",
      "Epoch 21/100\n",
      "1/1 [==============================] - 0s 26ms/step - loss: 0.4284\n",
      "Epoch 22/100\n",
      "1/1 [==============================] - 0s 27ms/step - loss: 0.4129\n",
      "Epoch 23/100\n",
      "1/1 [==============================] - 0s 26ms/step - loss: 0.3977\n",
      "Epoch 24/100\n",
      "1/1 [==============================] - 0s 25ms/step - loss: 0.3829\n",
      "Epoch 25/100\n",
      "1/1 [==============================] - 0s 26ms/step - loss: 0.3685\n",
      "Epoch 26/100\n",
      "1/1 [==============================] - 0s 26ms/step - loss: 0.3544\n",
      "Epoch 27/100\n",
      "1/1 [==============================] - 0s 27ms/step - loss: 0.3408\n",
      "Epoch 28/100\n",
      "1/1 [==============================] - 0s 26ms/step - loss: 0.3275\n",
      "Epoch 29/100\n",
      "1/1 [==============================] - 0s 27ms/step - loss: 0.3147\n",
      "Epoch 30/100\n",
      "1/1 [==============================] - 0s 28ms/step - loss: 0.3021\n",
      "Epoch 31/100\n",
      "1/1 [==============================] - 0s 26ms/step - loss: 0.2900\n",
      "Epoch 32/100\n",
      "1/1 [==============================] - 0s 28ms/step - loss: 0.2783\n",
      "Epoch 33/100\n",
      "1/1 [==============================] - 0s 27ms/step - loss: 0.2669\n",
      "Epoch 34/100\n",
      "1/1 [==============================] - 0s 28ms/step - loss: 0.2559\n",
      "Epoch 35/100\n",
      "1/1 [==============================] - 0s 27ms/step - loss: 0.2452\n",
      "Epoch 36/100\n",
      "1/1 [==============================] - 0s 26ms/step - loss: 0.2349\n",
      "Epoch 37/100\n",
      "1/1 [==============================] - 0s 26ms/step - loss: 0.2250\n",
      "Epoch 38/100\n",
      "1/1 [==============================] - 0s 26ms/step - loss: 0.2154\n",
      "Epoch 39/100\n",
      "1/1 [==============================] - 0s 25ms/step - loss: 0.2061\n",
      "Epoch 40/100\n",
      "1/1 [==============================] - 0s 25ms/step - loss: 0.1972\n",
      "Epoch 41/100\n",
      "1/1 [==============================] - 0s 24ms/step - loss: 0.1886\n",
      "Epoch 42/100\n",
      "1/1 [==============================] - 0s 25ms/step - loss: 0.1804\n",
      "Epoch 43/100\n",
      "1/1 [==============================] - 0s 25ms/step - loss: 0.1724\n",
      "Epoch 44/100\n",
      "1/1 [==============================] - 0s 28ms/step - loss: 0.1648\n",
      "Epoch 45/100\n",
      "1/1 [==============================] - 0s 29ms/step - loss: 0.1575\n",
      "Epoch 46/100\n",
      "1/1 [==============================] - 0s 28ms/step - loss: 0.1505\n",
      "Epoch 47/100\n",
      "1/1 [==============================] - 0s 29ms/step - loss: 0.1438\n",
      "Epoch 48/100\n",
      "1/1 [==============================] - 0s 27ms/step - loss: 0.1373\n",
      "Epoch 49/100\n",
      "1/1 [==============================] - 0s 29ms/step - loss: 0.1312\n",
      "Epoch 50/100\n",
      "1/1 [==============================] - 0s 32ms/step - loss: 0.1253\n",
      "Epoch 51/100\n",
      "1/1 [==============================] - 0s 28ms/step - loss: 0.1196\n",
      "Epoch 52/100\n",
      "1/1 [==============================] - 0s 28ms/step - loss: 0.1142\n",
      "Epoch 53/100\n",
      "1/1 [==============================] - 0s 27ms/step - loss: 0.1091\n",
      "Epoch 54/100\n",
      "1/1 [==============================] - 0s 25ms/step - loss: 0.1042\n",
      "Epoch 55/100\n",
      "1/1 [==============================] - 0s 26ms/step - loss: 0.0995\n",
      "Epoch 56/100\n",
      "1/1 [==============================] - 0s 26ms/step - loss: 0.0951\n",
      "Epoch 57/100\n",
      "1/1 [==============================] - 0s 25ms/step - loss: 0.0909\n",
      "Epoch 58/100\n",
      "1/1 [==============================] - 0s 24ms/step - loss: 0.0868\n",
      "Epoch 59/100\n",
      "1/1 [==============================] - 0s 26ms/step - loss: 0.0830\n",
      "Epoch 60/100\n",
      "1/1 [==============================] - 0s 26ms/step - loss: 0.0794\n",
      "Epoch 61/100\n",
      "1/1 [==============================] - 0s 26ms/step - loss: 0.0759\n",
      "Epoch 62/100\n",
      "1/1 [==============================] - 0s 27ms/step - loss: 0.0727\n",
      "Epoch 63/100\n",
      "1/1 [==============================] - 0s 27ms/step - loss: 0.0696\n",
      "Epoch 64/100\n",
      "1/1 [==============================] - 0s 25ms/step - loss: 0.0666\n",
      "Epoch 65/100\n",
      "1/1 [==============================] - 0s 26ms/step - loss: 0.0638\n",
      "Epoch 66/100\n",
      "1/1 [==============================] - 0s 27ms/step - loss: 0.0612\n",
      "Epoch 67/100\n",
      "1/1 [==============================] - 0s 27ms/step - loss: 0.0587\n",
      "Epoch 68/100\n",
      "1/1 [==============================] - 0s 28ms/step - loss: 0.0563\n",
      "Epoch 69/100\n",
      "1/1 [==============================] - 0s 26ms/step - loss: 0.0541\n",
      "Epoch 70/100\n",
      "1/1 [==============================] - 0s 25ms/step - loss: 0.0520\n",
      "Epoch 71/100\n",
      "1/1 [==============================] - 0s 27ms/step - loss: 0.0500\n",
      "Epoch 72/100\n",
      "1/1 [==============================] - 0s 27ms/step - loss: 0.0481\n",
      "Epoch 73/100\n",
      "1/1 [==============================] - 0s 27ms/step - loss: 0.0463\n",
      "Epoch 74/100\n",
      "1/1 [==============================] - 0s 26ms/step - loss: 0.0446\n",
      "Epoch 75/100\n",
      "1/1 [==============================] - 0s 26ms/step - loss: 0.0430\n",
      "Epoch 76/100\n",
      "1/1 [==============================] - 0s 25ms/step - loss: 0.0415\n",
      "Epoch 77/100\n",
      "1/1 [==============================] - 0s 26ms/step - loss: 0.0401\n",
      "Epoch 78/100\n",
      "1/1 [==============================] - 0s 26ms/step - loss: 0.0387\n",
      "Epoch 79/100\n",
      "1/1 [==============================] - 0s 27ms/step - loss: 0.0375\n",
      "Epoch 80/100\n",
      "1/1 [==============================] - 0s 26ms/step - loss: 0.0362\n",
      "Epoch 81/100\n",
      "1/1 [==============================] - 0s 28ms/step - loss: 0.0351\n",
      "Epoch 82/100\n",
      "1/1 [==============================] - 0s 29ms/step - loss: 0.0340\n",
      "Epoch 83/100\n",
      "1/1 [==============================] - 0s 29ms/step - loss: 0.0330\n",
      "Epoch 84/100\n",
      "1/1 [==============================] - 0s 29ms/step - loss: 0.0320\n",
      "Epoch 85/100\n",
      "1/1 [==============================] - 0s 31ms/step - loss: 0.0311\n",
      "Epoch 86/100\n",
      "1/1 [==============================] - 0s 29ms/step - loss: 0.0302\n",
      "Epoch 87/100\n",
      "1/1 [==============================] - 0s 29ms/step - loss: 0.0294\n",
      "Epoch 88/100\n",
      "1/1 [==============================] - 0s 28ms/step - loss: 0.0286\n",
      "Epoch 89/100\n",
      "1/1 [==============================] - 0s 26ms/step - loss: 0.0278\n",
      "Epoch 90/100\n",
      "1/1 [==============================] - 0s 25ms/step - loss: 0.0271\n",
      "Epoch 91/100\n",
      "1/1 [==============================] - 0s 26ms/step - loss: 0.0264\n",
      "Epoch 92/100\n",
      "1/1 [==============================] - 0s 26ms/step - loss: 0.0258\n",
      "Epoch 93/100\n",
      "1/1 [==============================] - 0s 26ms/step - loss: 0.0252\n",
      "Epoch 94/100\n",
      "1/1 [==============================] - 0s 26ms/step - loss: 0.0246\n",
      "Epoch 95/100\n",
      "1/1 [==============================] - 0s 26ms/step - loss: 0.0240\n",
      "Epoch 96/100\n",
      "1/1 [==============================] - 0s 26ms/step - loss: 0.0235\n",
      "Epoch 97/100\n",
      "1/1 [==============================] - 0s 26ms/step - loss: 0.0229\n",
      "Epoch 98/100\n",
      "1/1 [==============================] - 0s 25ms/step - loss: 0.0224\n",
      "Epoch 99/100\n",
      "1/1 [==============================] - 0s 26ms/step - loss: 0.0220\n",
      "Epoch 100/100\n",
      "1/1 [==============================] - 0s 26ms/step - loss: 0.0215\n"
     ]
    }
   ],
   "source": [
    "# Fit autoencoder model\n",
    "history = Net.fit(y_train, y_target, batch_size=50, epochs=100)\n",
    "# Add new information about loss function to buffer and plot it\n",
    "history_buffer_loss += history.history['loss']"
   ]
  },
  {
   "cell_type": "code",
   "execution_count": 24,
   "id": "8de1e545",
   "metadata": {},
   "outputs": [
    {
     "data": {
      "text/plain": [
       "Text(0.5, 0.98, 'Loss function')"
      ]
     },
     "execution_count": 24,
     "metadata": {},
     "output_type": "execute_result"
    },
    {
     "data": {
      "image/png": "[encoded data removed]",
      "text/plain": [
       "<Figure size 640x480 with 1 Axes>"
      ]
     },
     "metadata": {},
     "output_type": "display_data"
    }
   ],
   "source": [
    "# Plotting loss function\n",
    "fig, ax = plt.subplots()\n",
    "ax.set_ylim(bottom=0, top=np.max(history_buffer_loss).round(1) + 0.1)\n",
    "ax.set_xlabel('Epochs')\n",
    "ax.set_ylabel('Loss - Mean Squared Error')\n",
    "ax.plot(list(range(1, len(history_buffer_loss) + 1)), history_buffer_loss)\n",
    "fig.suptitle('Loss function')"
   ]
  },
  {
   "cell_type": "code",
   "execution_count": 25,
   "id": "db4c2ccb",
   "metadata": {},
   "outputs": [
    {
     "name": "stdout",
     "output_type": "stream",
     "text": [
      "1/1 [==============================] - 0s 43ms/step\n"
     ]
    },
    {
     "name": "stderr",
     "output_type": "stream",
     "text": [
      "Clipping input data to the valid range for imshow with RGB data ([0..1] for floats or [0..255] for integers).\n"
     ]
    },
    {
     "data": {
      "text/plain": [
       "<matplotlib.image.AxesImage at 0x7fc84ecc6260>"
      ]
     },
     "execution_count": 25,
     "metadata": {},
     "output_type": "execute_result"
    },
    {
     "data": {
      "image/png": "[encoded data removed]",
      "text/plain": [
       "<Figure size 1200x2600 with 2 Axes>"
      ]
     },
     "metadata": {},
     "output_type": "display_data"
    }
   ],
   "source": [
    "Samples_eval = Sample_Circles()\n",
    "Samples_eval.set_radius(3, 20)\n",
    "Samples_eval.set_image_size(50, 50)\n",
    "Samples_eval.append_random_circles(5)\n",
    "samples_eval = Samples_eval.normalized_images()\n",
    "results_eval = Net.predict(samples_eval)\n",
    "# Comparing example images (images index i)\n",
    "i = 3\n",
    "fig, axs = plt.subplots(1, 2, figsize=(12, 26))\n",
    "axs[0].set_title('Evaluation data image')\n",
    "axs[1].set_title('Result of autoencoder')\n",
    "axs[0].imshow(samples_eval[i], label='Evaluation data image')\n",
    "axs[1].imshow(results_eval[i], label='Result of autoencoder')"
   ]
  },
  {
   "cell_type": "markdown",
   "id": "c98b6806",
   "metadata": {},
   "source": [
    "## Defining Autoencoder with bottlenec on 27x27 px pictures"
   ]
  },
  {
   "cell_type": "code",
   "execution_count": 3,
   "id": "1d98419e",
   "metadata": {},
   "outputs": [
    {
     "data": {
      "text/plain": [
       "(30000, 27, 27, 1)"
      ]
     },
     "execution_count": 3,
     "metadata": {},
     "output_type": "execute_result"
    }
   ],
   "source": [
    "# Sample generation:\n",
    "# Pictures with just one output layer (gray image)\n",
    "Samples_2 = Sample_Circles()\n",
    "Samples_2.set_image_size(27, 27)\n",
    "Samples_2.set_radius(1, 8)\n",
    "Samples_2.circle_color = [0, 0, 0]\n",
    "Samples_2.append_random_circles(30000)\n",
    "Samples_27 = Samples_2.normalized_images()[:, :, :, 0][:, :, :, np.newaxis]\n",
    "Samples_27_target = Samples_27.copy() # For autoencoders: target = input\n",
    "Samples_27.shape"
   ]
  },
  {
   "cell_type": "code",
   "execution_count": 4,
   "id": "0da91ac5",
   "metadata": {},
   "outputs": [
    {
     "name": "stdout",
     "output_type": "stream",
     "text": [
      "Model: \"sequential\"\n",
      "_________________________________________________________________\n",
      " Layer (type)                Output Shape              Param #   \n",
      "=================================================================\n",
      " conv2d (Conv2D)             (None, 27, 27, 12)        312       \n",
      "                                                                 \n",
      " average_pooling2d (AverageP  (None, 9, 9, 12)         0         \n",
      " ooling2D)                                                       \n",
      "                                                                 \n",
      " conv2d_1 (Conv2D)           (None, 9, 9, 12)          3612      \n",
      "                                                                 \n",
      " average_pooling2d_1 (Averag  (None, 3, 3, 12)         0         \n",
      " ePooling2D)                                                     \n",
      "                                                                 \n",
      " conv2d_2 (Conv2D)           (None, 3, 3, 12)          3612      \n",
      "                                                                 \n",
      " average_pooling2d_2 (Averag  (None, 1, 1, 12)         0         \n",
      " ePooling2D)                                                     \n",
      "                                                                 \n",
      " conv2d_3 (Conv2D)           (None, 1, 1, 9)           981       \n",
      "                                                                 \n",
      " up_sampling2d (UpSampling2D  (None, 3, 3, 9)          0         \n",
      " )                                                               \n",
      "                                                                 \n",
      " conv2d_4 (Conv2D)           (None, 3, 3, 12)          2712      \n",
      "                                                                 \n",
      " up_sampling2d_1 (UpSampling  (None, 9, 9, 12)         0         \n",
      " 2D)                                                             \n",
      "                                                                 \n",
      " conv2d_5 (Conv2D)           (None, 9, 9, 12)          3612      \n",
      "                                                                 \n",
      " up_sampling2d_2 (UpSampling  (None, 27, 27, 12)       0         \n",
      " 2D)                                                             \n",
      "                                                                 \n",
      " conv2d_6 (Conv2D)           (None, 27, 27, 12)        3612      \n",
      "                                                                 \n",
      " conv2d_7 (Conv2D)           (None, 27, 27, 1)         49        \n",
      "                                                                 \n",
      "=================================================================\n",
      "Total params: 18,502\n",
      "Trainable params: 18,502\n",
      "Non-trainable params: 0\n",
      "_________________________________________________________________\n"
     ]
    }
   ],
   "source": [
    "# Defining net with 9 neurons at smallest part\n",
    "Net_2 = ks.Sequential()\n",
    "# Variable activation function\n",
    "activ = 'selu'\n",
    "\n",
    "\n",
    "Net_2.add(ks.layers.Conv2D(12, 5, input_shape=(27, 27, 1), activation=activ, padding='same'))\n",
    "Net_2.add(ks.layers.AveragePooling2D(pool_size=(3, 3), padding='same')) # From 27x27 to 9x9\n",
    "Net_2.add(ks.layers.Conv2D(12, 5, activation=activ, padding='same'))\n",
    "Net_2.add(ks.layers.AveragePooling2D(pool_size=(3, 3), padding='same')) # From 9x9 to 3x3\n",
    "Net_2.add(ks.layers.Conv2D(12, 5, activation=activ, padding='same'))\n",
    "Net_2.add(ks.layers.AveragePooling2D(pool_size=(3, 3), padding='same')) # From 3x3 to 1x1\n",
    "Net_2.add(ks.layers.Conv2D(9, 3, activation=activ, padding='same')) # Bottlenec, 9 channels on 1x1 \n",
    "Net_2.add(ks.layers.UpSampling2D(size=(3, 3))) # From 1x1 to 3x3\n",
    "Net_2.add(ks.layers.Conv2D(12, 5, activation=activ, padding='same'))\n",
    "Net_2.add(ks.layers.UpSampling2D(size=(3, 3))) # From 3x3 to 9x9\n",
    "Net_2.add(ks.layers.Conv2D(12, 5, activation=activ, padding='same'))\n",
    "Net_2.add(ks.layers.UpSampling2D(size=(3, 3))) # From 9x9 to 27x27\n",
    "Net_2.add(ks.layers.Conv2D(12, 5, activation=activ, padding='same'))\n",
    "Net_2.add(ks.layers.Conv2D(1, 2, activation='linear', padding='same'))\n",
    "\n",
    "Net_2.compile(loss='mean_squared_error', optimizer='adam')\n",
    "\n",
    "# Store history of loss-function in\n",
    "history_buffer_loss_2 = []\n",
    "Net_2.summary()"
   ]
  },
  {
   "cell_type": "code",
   "execution_count": 6,
   "id": "2a3f56d0",
   "metadata": {},
   "outputs": [
    {
     "name": "stdout",
     "output_type": "stream",
     "text": [
      "6000/6000 [==============================] - 55s 9ms/step - loss: 0.0047\n"
     ]
    }
   ],
   "source": [
    "history = Net_2.fit(Samples_27, Samples_27_target, batch_size=5, epochs=1)\n",
    "# Add new information about loss function to buffer and plot it\n",
    "history_buffer_loss_2 += history.history['loss']"
   ]
  },
  {
   "cell_type": "code",
   "execution_count": 41,
   "id": "ab8abedd",
   "metadata": {},
   "outputs": [
    {
     "name": "stdout",
     "output_type": "stream",
     "text": [
      "Loss at last epoch:  0.028111407533288002\n"
     ]
    },
    {
     "data": {
      "image/png": "[encoded data removed]",
      "text/plain": [
       "<Figure size 640x480 with 1 Axes>"
      ]
     },
     "metadata": {},
     "output_type": "display_data"
    }
   ],
   "source": [
    "# Plotting loss function\n",
    "fig, ax = plt.subplots()\n",
    "ax.set_ylim(bottom=0, top=np.max(history_buffer_loss_2).round(1) + 0.1)\n",
    "ax.set_xlabel('Epochs')\n",
    "ax.set_ylabel('Loss - Mean Squared Error')\n",
    "ax.plot(list(range(1, len(history_buffer_loss_2) + 1)), history_buffer_loss_2)\n",
    "fig.suptitle('Loss function')\n",
    "print('Loss at last epoch: ', history_buffer_loss_2[-1])"
   ]
  },
  {
   "cell_type": "code",
   "execution_count": 13,
   "id": "518bac1a",
   "metadata": {},
   "outputs": [
    {
     "name": "stdout",
     "output_type": "stream",
     "text": [
      "938/938 [==============================] - 11s 12ms/step\n"
     ]
    },
    {
     "data": {
      "text/plain": [
       "<matplotlib.image.AxesImage at 0x7f286a24a4a0>"
      ]
     },
     "execution_count": 13,
     "metadata": {},
     "output_type": "execute_result"
    },
    {
     "data": {
      "image/png": "[encoded data removed]",
      "text/plain": [
       "<Figure size 1200x2600 with 2 Axes>"
      ]
     },
     "metadata": {},
     "output_type": "display_data"
    }
   ],
   "source": [
    "# Displaying examples of training data\n",
    "y_predict = Net_2.predict(Samples_27)\n",
    "# Comparing example images (images index i)\n",
    "i = 3\n",
    "fig, axs = plt.subplots(1, 2, figsize=(12, 26))\n",
    "axs[0].set_title('Traing data image')\n",
    "axs[1].set_title('Result of autoencoder')\n",
    "axs[0].imshow(Samples_27[i], label='Training data image')\n",
    "axs[1].imshow(y_predict[i], label='Result of autoencoder')"
   ]
  },
  {
   "cell_type": "code",
   "execution_count": 15,
   "id": "54c6f9fe",
   "metadata": {},
   "outputs": [
    {
     "name": "stdout",
     "output_type": "stream",
     "text": [
      "30000\n",
      "1/1 [==============================] - 0s 26ms/step\n"
     ]
    },
    {
     "data": {
      "text/plain": [
       "<matplotlib.image.AxesImage at 0x7f286a07b6d0>"
      ]
     },
     "execution_count": 15,
     "metadata": {},
     "output_type": "execute_result"
    },
    {
     "data": {
      "image/png": "[encoded data removed]",
      "text/plain": [
       "<Figure size 1200x2600 with 2 Axes>"
      ]
     },
     "metadata": {},
     "output_type": "display_data"
    }
   ],
   "source": [
    "# Display one evaluation sample and corresponding result of autoencoder\n",
    "Samples_2.append_random_circles(1)\n",
    "eval_sample = Samples_2.normalized_images()[-1]\n",
    "Samples_2.erase_images(a=30000)\n",
    "print(len(Samples_2.images))\n",
    "eval_sample = eval_sample[:, :, 0][np.newaxis, :, :, np.newaxis]\n",
    "result = Net_2.predict(eval_sample)\n",
    "# Plotting this eval sample\n",
    "fig, axs = plt.subplots(1, 2, figsize=(12, 26))\n",
    "axs[0].set_title('Evaluation data image')\n",
    "axs[1].set_title('Result of autoencoder')\n",
    "axs[0].imshow(eval_sample[0], label='Evaluation data image')\n",
    "axs[1].imshow(result[0], label='Result of autoencoder')"
   ]
  },
  {
   "cell_type": "code",
   "execution_count": null,
   "id": "1482e6d1",
   "metadata": {},
   "outputs": [],
   "source": []
  }
 ],
 "metadata": {
  "kernelspec": {
   "display_name": "Python 3 (ipykernel)",
   "language": "python",
   "name": "python3"
  },
  "language_info": {
   "codemirror_mode": {
    "name": "ipython",
    "version": 3
   },
   "file_extension": ".py",
   "mimetype": "text/x-python",
   "name": "python",
   "nbconvert_exporter": "python",
   "pygments_lexer": "ipython3",
   "version": "3.10.6"
  }
 },
 "nbformat": 4,
 "nbformat_minor": 5
}
